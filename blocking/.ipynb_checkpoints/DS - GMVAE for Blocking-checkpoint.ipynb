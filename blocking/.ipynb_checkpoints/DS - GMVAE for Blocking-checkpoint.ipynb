{
 "cells": [
  {
   "cell_type": "markdown",
   "metadata": {
    "id": "yemqVAomvDKG"
   },
   "source": [
    "# Performing Entity Resolution Blocking with Gaussian Mixture Variational Autoencoder - A Experiment"
   ]
  },
  {
   "cell_type": "markdown",
   "metadata": {
    "id": "rQgM26A3HYQX"
   },
   "source": [
    "Neste trabalho serão realizados experimentos sobre o uso do modelo Variational Autoencoder com mistura de gaussianas (GMVAE) como uma proposta de metodologia para a etapa de *blocking* do processo de *Entity Resolution* para dados textuais."
   ]
  },
  {
   "cell_type": "markdown",
   "metadata": {
    "id": "xwRO6YvAGlqc"
   },
   "source": [
    "## Entity Resolution\n",
    "\n",
    "A tarefa de Resolução de Entidades refere-se, dado um conjunto de dados, ao problema de encontrar um subconjunto deste que referencie a uma mesma entidade do mundo real. Por exemplo, dado um conjunto de imagens, encontrar quais referem-se à mesma pessoa. Ou dado um conjunto de descrições de produtos, encontrar os que se referem ao mesmo objeto.\n",
    "\n",
    "O maior desafio dessa técnica surge quando trabalha-se com grandes escalas de dados. Como precisa-se comparar cada par de dados para inferir se eles se tratam ou não da mesma entidade (ou seja, se há um *match*), tem-se um problema de complexidade quadrática: com 1k dados têm-se 1M comparações, etc...\n",
    "\n",
    "<center>\n",
    "  <img width=\"600\" src=\"https://miro.medium.com/max/1400/0*dblW3YQrOo6hHrKP\" />\n",
    "</center>\n",
    "\n",
    "Para contornar esse obstáculo, antes da etapa de *matching*, busca-se reduzir o espaço de busca utilizando uma estratégia de indexação dos dados, onde a escolha mais comum na esmagadora maioria dos casos é a técnica de *blocking*."
   ]
  },
  {
   "cell_type": "markdown",
   "metadata": {
    "id": "nW7GsHLIOx1k"
   },
   "source": [
    "\n",
    "\n",
    "### Blocking\n",
    "\n",
    "Nesta etapa, procura-se agrupar os dados em blocos de modo a garantir (sempre que possível) que dados de uma mesma entidade permaneçam dentro de um mesmo bloco. Com isso, ao buscar por um *match* de um dado, ao invés de buscar em todo o *dataset* original, isso é feito apenas dentro do respectivo bloco cujo tamanho é consideravelmente menor.\n",
    "\n",
    "Com isso, existem duas características desejáveis nesse processo:\n",
    "\n",
    "#### Reachability\n",
    "\n",
    "Como dito antes, deseja-se que dados de uma mesma entidade concentrem-se dentro de um mesmo bloco, pois, caso contrário, eles estariam espalhados e não seriam alcançados na etapa de *matching*. Para medir o quanto esses dados são \"alcançáveis\" dentro de um bloco, criou-se a métrica de **Reachability**, apresentada posteriormente.\n",
    "\n",
    "\n",
    "#### Dispersão\n",
    "\n",
    "Outra propriedade interessante é a dispersão. Imagine o caso em que a primeira característica foi satisfeita, porém no processo foram utilizados apenas 4 dos 10 blocos disponíveis. Apesar do espaço de busca ter sido reduzido, ele não tornou-se tão menor quanto poderia. É isso que a métrica **Dispersal** mede."
   ]
  },
  {
   "cell_type": "markdown",
   "metadata": {
    "id": "u_QdWZU4XLAY"
   },
   "source": [
    "## Variational Autoenconder\n",
    "\n",
    "<center>\n",
    "  <img width=\"750\" src=\"https://lilianweng.github.io/lil-log/assets/images/autoencoder-architecture.png\" />\n",
    "</center>\n"
   ]
  },
  {
   "cell_type": "markdown",
   "metadata": {
    "id": "TwkbciJO_LiM"
   },
   "source": [
    "## Gaussian Mixture Model\n",
    "\n",
    "<center>\n",
    "  <img width=\"600\" src=\"http://4.bp.blogspot.com/-5Gr6YWHlcpQ/VGt46YCR1oI/AAAAAAAAA1Y/x2lfEKEBBMI/s1600/iter_5.png\" />\n",
    "</center>\n"
   ]
  },
  {
   "cell_type": "markdown",
   "metadata": {
    "id": "tHkVUnHmDywB"
   },
   "source": [
    "## Formulação Matemática\n",
    "\n",
    "Conjunto de blocos $b \\in \\{1, ..., B\\}$.\n",
    "\n",
    "Conjunto de dados $r \\in \\{1, ..., R\\}$.\n",
    "\n",
    "Conjunto de entidades $e \\in \\{1, ..., E\\}$.\n",
    "\n",
    "$\\gamma_r := $ bloco em que o dado $r$ foi alocado.\n",
    "\n",
    "$\\lambda_r := $ entidade relacionada ao dado $r$.\n",
    "\n",
    "### Matriz de Alocação\n",
    "\n",
    "Conjunto de dados alocados ao bloco $b$ e relacionados à entidade $e$: $R^b_e = \\{ r | \\gamma_r = b \\land \\lambda_r = e\\}$\n",
    "\n",
    "A matriz de alocação é formada da seguinte maneira:\n",
    "\n",
    "\\begin{align}\n",
    "A_{E \\times B} := A_{eb} = |R^b_e|\n",
    "\\end{align}\n",
    "\n",
    "Ou seja, as linhas são as entidades e as colunas são os blocos.\n",
    "\n",
    "### Reachability (ou apenas Reachy)\n",
    "\n",
    "Considere o vetor $\\mathbf{a_i}$ formado pela linha $i$ da matriz $A$, o qual representada a alocação dos dados de uma entidade para cada um dos $B$ blocos. Podemos calcular o *reachy* desse vetor como segue:\n",
    "\n",
    "\\begin{align}\n",
    "Reachy(\\mathbf{a_i}) = max(\\mathbf{a_i}) \\times (\\sum_{j = 1}^{B} a_{ij})^{-1}\n",
    "\\end{align}\n",
    "\n",
    "Para a matriz completa, basta computar a média dos *reachy's* de cada linha.\n",
    "\n",
    "\\begin{align}\n",
    "Reachy(A) = \\frac{1}{n} \\sum_{i = 1}^{E} Reachy(\\mathbf{a_i})\n",
    "\\end{align}\n",
    "\n",
    "### Dispersão\n",
    "\n",
    "Da mesma forma, considere o vetor $\\mathbf{a_i}$ formado pela linha $i$ da matriz $A$. Primeiro deveremos criar novos vetores $\\mathbf{\\alpha_i}$ equivalentes, preenchidos com a proporção dos dados de uma entidade. Isso garante que a quantidade de dados de uma entidade não influencie no resultado:\n",
    "\n",
    "\\begin{align}\n",
    "\\alpha_i = a_i \\times (\\sum_{j = 1}^{B} a_{ij})^{-1}\n",
    "\\end{align}\n",
    "\n",
    "Depois disso calculamos o vetor de \"erros\" $\\epsilon$:\n",
    "\\begin{align}\n",
    "\\epsilon = (\\sum_{i = 1}^{E} \\alpha_{i}) (\\sum_{i = 1}^{E} \\sum_{j = 1}^{B} \\alpha_{ij})^{-1} - \\frac{1}{B}\n",
    "\\end{align}\n",
    "\n",
    "Por fim, calculamos a dispersão:\n",
    "\n",
    "\\begin{align}\n",
    "Dipersal = 1 - \\frac{1}{2}\\frac{B}{B - 1}\\sum_{i = 1}^{B} \\epsilon_{i}\n",
    "\\end{align}\n",
    "\n",
    "### Exemplo\n",
    "\n",
    "\n",
    "Considere as matrizes de alocação abaixo, as quais representam o mesmo conjunto de dados com 3 entidades e 69 valores, porém, com diferentes alocações nos 3 blocos disponíveis. Por exemplo, nas alocações da matriz $A_1$, a entidade 1 tem 11 dados no primeiro bloco, 2 no segundo e 5 no terceiro. \\\n",
    "\n",
    "\\begin{align}\n",
    "A_1 = \n",
    "\\begin{bmatrix}\n",
    "11 & 2 & 5\\\\\n",
    "1 & 20 & 0\\\\\n",
    "10 & 9 & 11\n",
    "\\end{bmatrix}\n",
    "%\n",
    "A_2 = \n",
    "\\begin{bmatrix}\n",
    "16 & 2 & 0\\\\\n",
    "20 & 0 & 1\\\\\n",
    "30 & 0 & 0\n",
    "\\end{bmatrix}\n",
    "%\n",
    "A_3 = \n",
    "\\begin{bmatrix}\n",
    "0 & 18 & 0\\\\\n",
    "0 & 0 & 21\\\\\n",
    "30 & 0 & 0\n",
    "\\end{bmatrix}\n",
    "\\end{align}\n",
    "\n",
    "Os seus respectivos valores para as métricas Reachability e Dispersal são:\n",
    "\n",
    "|       | Reachability | Dispersal |\n",
    "|-------|--------------|-----------|\n",
    "| $A_1$ |     0.643    |   0.818   |\n",
    "| $A_2$ |     0.947    |   0.079   |\n",
    "| $A_3$ |      1.0     |    1.0    |\n",
    "\n",
    "É importante notar que a matriz $A_3$ alocou todos os dados de cada entidade em um bloco diferente, o que lhe garante um escore máximo em ambas as métricas.\n",
    "\n"
   ]
  },
  {
   "cell_type": "markdown",
   "metadata": {
    "id": "nA6iJ0iXvRKL"
   },
   "source": [
    "## GMVAE"
   ]
  },
  {
   "cell_type": "markdown",
   "metadata": {
    "id": "-3uXATOh8mEo"
   },
   "source": [
    "A ideia de usar a Mistura de Gaussianas como a distribuição a priori para o Variational Autoencoder (VAE) já está presente na literatura tanto com uma abordagem não-supervisionada quanto semi-supervisionada. Este modelo é comumente empregado em problemas de clusterização, pois dado que o número de ;;clusters é discreto e o VAE foi originalmente modelado para variáveis contínuas, a aplicação da Mistura de Gaussianas pode contornar esse problema ao assumir cada moda do espaço latente como uma classe."
   ]
  },
  {
   "cell_type": "markdown",
   "metadata": {
    "id": "GDXgTO4J9fBF"
   },
   "source": [
    "## Dataset Wikilinks\n",
    "\n",
    "Para a análise aqui apresentada e para os futuros trabalhos, foi escolhido o Dataset Wikilinks.\n",
    "\n",
    "> 40 milhões de menções [à entidades] sem ambiguidade em mais de 10 milhões de páginas da web.\n",
    "\n",
    "O dataset foi disponibilizado em 2013 e possui duas versões: uma contendo apenas os contextos das menções de cada entidade sobre as páginas exploradas e outra contendo, além disso, o texto completo do artigo e a estrutura do DOM (Document Object Model) dessas páginas. A escolhida aqui foi a primeira.\n",
    "\n",
    "Esse conjunto escolhido possui em torno de 40 milhões de menções. Mas, por questões de tempo, foi extraído uma amostra de 83 mil menções.\n",
    "\n",
    "### Exemplo\n",
    "\n",
    "| wiki\\_url                       | full\\_context                                      |\n",
    "|---------------------------------|----------------------------------------------------|\n",
    "| .../wiki/materialism            | \"(with Woolgar), We have Never Been Modern , an... |\n",
    "| .../wiki/han\\_solo              | \"Jedi , in which Jabba the Hutt states, \"\"I wil... |\n",
    "| .../wiki/tangerine\\_dream       | \"even on my radar until they released a cover o... |\n",
    "| .../wiki/romantic\\_comedy\\_film | \"is when I will give it to the label. But I'm n... |\n",
    "| .../wiki/tragedy                | \"many things here that make me think of Greek t... |\n",
    "| .../wiki/materialism            | \"term \"\"business method\"\"  I'll plead guilty. I... |\n",
    "| .../wiki/lego                   | \"the street from Time square. It is very bright... |\n",
    "| .../wiki/king                   | \"there is a general acceptance amongst modern w... |\n"
   ]
  },
  {
   "cell_type": "markdown",
   "metadata": {
    "id": "WAu71_nHzWt0"
   },
   "source": [
    "## Instalando pacotes"
   ]
  },
  {
   "cell_type": "code",
   "execution_count": 4,
   "metadata": {
    "colab": {
     "base_uri": "https://localhost:8080/"
    },
    "executionInfo": {
     "elapsed": 7874,
     "status": "ok",
     "timestamp": 1644546281654,
     "user": {
      "displayName": "Samir Braga Chaves",
      "photoUrl": "https://lh3.googleusercontent.com/a-/AOh14GjVygv2wdXo0c9CF7F3Cexb6uLNuruAVewQW9Sohw=s64",
      "userId": "16825804541748131911"
     },
     "user_tz": 180
    },
    "id": "nFTouFQ-9eeo",
    "outputId": "79d554d6-d697-4803-a194-f9cfd0ae01ec"
   },
   "outputs": [
    {
     "name": "stdout",
     "output_type": "stream",
     "text": [
      "Collecting bayesian-optimization\n",
      "  Using cached bayesian-optimization-1.2.0.tar.gz (14 kB)\n",
      "Requirement already satisfied: numpy>=1.9.0 in /home/samir/miniconda3/envs/pml/lib/python3.8/site-packages (from bayesian-optimization) (1.22.1)\n",
      "Requirement already satisfied: scipy>=0.14.0 in /home/samir/miniconda3/envs/pml/lib/python3.8/site-packages (from bayesian-optimization) (1.4.1)\n",
      "Requirement already satisfied: scikit-learn>=0.18.0 in /home/samir/miniconda3/envs/pml/lib/python3.8/site-packages (from bayesian-optimization) (1.0.2)\n",
      "Requirement already satisfied: joblib>=0.11 in /home/samir/miniconda3/envs/pml/lib/python3.8/site-packages (from scikit-learn>=0.18.0->bayesian-optimization) (1.1.0)\n",
      "Requirement already satisfied: threadpoolctl>=2.0.0 in /home/samir/miniconda3/envs/pml/lib/python3.8/site-packages (from scikit-learn>=0.18.0->bayesian-optimization) (3.0.0)\n",
      "Building wheels for collected packages: bayesian-optimization\n",
      "  Building wheel for bayesian-optimization (setup.py) ... \u001b[?25ldone\n",
      "\u001b[?25h  Created wheel for bayesian-optimization: filename=bayesian_optimization-1.2.0-py3-none-any.whl size=11685 sha256=ad80b22c08d4af2e2f6d6f990501e10e3d3fd059bf90682c20f81b6d2d272257\n",
      "  Stored in directory: /home/samir/.cache/pip/wheels/37/fa/19/f93e793d3944567a60b3ab93b446cf7370cc82c60c1d1c613f\n",
      "Successfully built bayesian-optimization\n",
      "Installing collected packages: bayesian-optimization\n",
      "Successfully installed bayesian-optimization-1.2.0\n"
     ]
    }
   ],
   "source": [
    "!pip install bayesian-optimization"
   ]
  },
  {
   "cell_type": "code",
   "execution_count": 5,
   "metadata": {
    "colab": {
     "base_uri": "https://localhost:8080/"
    },
    "executionInfo": {
     "elapsed": 955,
     "status": "ok",
     "timestamp": 1644546282605,
     "user": {
      "displayName": "Samir Braga Chaves",
      "photoUrl": "https://lh3.googleusercontent.com/a-/AOh14GjVygv2wdXo0c9CF7F3Cexb6uLNuruAVewQW9Sohw=s64",
      "userId": "16825804541748131911"
     },
     "user_tz": 180
    },
    "id": "b-nl2NIavSQS",
    "outputId": "2c5b59e3-dd05-4304-9267-2ffb540b141f"
   },
   "outputs": [
    {
     "name": "stdout",
     "output_type": "stream",
     "text": [
      "[Errno 2] No such file or directory: 'GMVAE/pytorch'\n",
      "/home/samir/Documents/atividades/data-science/wikilinks-eda/blocking/GMVAE/pytorch\n"
     ]
    }
   ],
   "source": [
    "# clone the github repository to access source code\n",
    "#!git clone https://github.com/samirbraga/GMVAE.git\n",
    "\n",
    "# set the correct directory/\n",
    "%cd GMVAE/pytorch"
   ]
  },
  {
   "cell_type": "markdown",
   "metadata": {
    "id": "rGzTb0oswH5J"
   },
   "source": [
    "## Bibliotecas usadas"
   ]
  },
  {
   "cell_type": "code",
   "execution_count": 6,
   "metadata": {
    "id": "ThVeaB3CwI4j"
   },
   "outputs": [],
   "source": [
    "import numpy as np\n",
    "import argparse\n",
    "from collections import Counter\n",
    "import random\n",
    "import torch\n",
    "from torchvision import datasets, transforms\n",
    "import torch.utils.data as utils_data\n",
    "from scipy.io import loadmat\n",
    "from model.GMVAEBlocking import *\n",
    "from metrics.metrics import blocks_by_entities, blocking_accuracy\n",
    "from bayes_opt import BayesianOptimization\n",
    "from sklearn.model_selection import train_test_split\n",
    "import matplotlib.pyplot as plt\n",
    "import pandas as pd\n",
    "%matplotlib inline"
   ]
  },
  {
   "cell_type": "markdown",
   "metadata": {
    "id": "3QNKItMHwQU2"
   },
   "source": [
    "## Parâmetros do Modelo"
   ]
  },
  {
   "cell_type": "code",
   "execution_count": 7,
   "metadata": {
    "id": "XwEiklKGJAbr"
   },
   "outputs": [],
   "source": [
    "class Args(dict):\n",
    "    __slots__ = () \n",
    "    __getattr__ = dict.__getitem__\n",
    "    __setattr__ = dict.__setitem__"
   ]
  },
  {
   "cell_type": "code",
   "execution_count": 8,
   "metadata": {
    "id": "B5OuUU8dJAbs"
   },
   "outputs": [],
   "source": [
    "default_args = {\n",
    "    'seed': 1,\n",
    "\n",
    "    ## GPU\n",
    "    'cuda': 0,\n",
    "    'gpuID': 0,\n",
    "\n",
    "    ## Training\n",
    "    'epochs': 100,\n",
    "    'batch_size': 64,\n",
    "    'batch_size_val': 200,\n",
    "    'learning_rate': 1e-3,\n",
    "    'decay_epoch': -1,\n",
    "    'lr_decay': 0.5,\n",
    "\n",
    "    ## Architecture\n",
    "    'num_classes': 10,\n",
    "    'gaussian_size': 2,\n",
    "    'input_size': 512,\n",
    "\n",
    "    ## Partition parameters\n",
    "    'train_proportion': 1.0,\n",
    "\n",
    "    ## Gumbel parameters\n",
    "    'init_temp': 1.0,\n",
    "    'decay_temp': 1,\n",
    "    'hard_gumbel': 0,\n",
    "    'min_temp': 0.5,\n",
    "    'decay_temp_rate': 0.013862944,\n",
    "\n",
    "    ## Loss function parameters\n",
    "    'w_gauss': 2,\n",
    "    'w_categ': 0,\n",
    "    'w_rec': 100,\n",
    "    'w_blocking': 0,\n",
    "    'rec_type': 'cosine',\n",
    "\n",
    "    ## Others\n",
    "    'verbose': 0\n",
    "}"
   ]
  },
  {
   "cell_type": "code",
   "execution_count": 9,
   "metadata": {
    "id": "UurXfwuSJAbs"
   },
   "outputs": [],
   "source": [
    "def get_args(**args):\n",
    "    args_dics = dict(list(default_args.items()) + list(args.items()))\n",
    "    return Args(args_dics)"
   ]
  },
  {
   "cell_type": "markdown",
   "metadata": {
    "id": "JhVeJO5-ziwp"
   },
   "source": [
    "## Reproducibilidade"
   ]
  },
  {
   "cell_type": "markdown",
   "metadata": {
    "id": "Bti6lPHawc9z"
   },
   "source": [
    "Set random seed in case it was specified in the parameters\n"
   ]
  },
  {
   "cell_type": "code",
   "execution_count": 10,
   "metadata": {
    "id": "IpWPxTy1wgbJ"
   },
   "outputs": [],
   "source": [
    "## Random Seed\n",
    "SEED = default_args['seed']\n",
    "np.random.seed(SEED)\n",
    "random.seed(SEED)\n",
    "torch.manual_seed(SEED)\n",
    "g = torch.Generator()\n",
    "g.manual_seed(SEED)\n",
    "if default_args['cuda']:\n",
    "  torch.cuda.manual_seed(SEED)\n",
    "\n",
    "def seed_worker(worker_id):\n",
    "    numpy.random.seed(SEED)\n",
    "    random.seed(SEED)"
   ]
  },
  {
   "cell_type": "markdown",
   "metadata": {
    "id": "xodsXHacZxE4"
   },
   "source": [
    "Para o ambiente do colab, somente."
   ]
  },
  {
   "cell_type": "code",
   "execution_count": 11,
   "metadata": {
    "colab": {
     "base_uri": "https://localhost:8080/"
    },
    "executionInfo": {
     "elapsed": 22685,
     "status": "ok",
     "timestamp": 1644546364696,
     "user": {
      "displayName": "Samir Braga Chaves",
      "photoUrl": "https://lh3.googleusercontent.com/a-/AOh14GjVygv2wdXo0c9CF7F3Cexb6uLNuruAVewQW9Sohw=s64",
      "userId": "16825804541748131911"
     },
     "user_tz": 180
    },
    "id": "roI4_J2SJN3m",
    "outputId": "8dcd8f34-3f64-4a93-ef59-04b268ada360"
   },
   "outputs": [],
   "source": [
    "# from google.colab import drive\n",
    "# drive.mount('/content/drive')"
   ]
  },
  {
   "cell_type": "markdown",
   "metadata": {
    "id": "OrpuMQ-a4ocP"
   },
   "source": [
    "## Carregamento dos Dados"
   ]
  },
  {
   "cell_type": "code",
   "execution_count": 12,
   "metadata": {
    "id": "w2CRArfJ_T_L"
   },
   "outputs": [],
   "source": [
    "BASE_PATH = '../..'"
   ]
  },
  {
   "cell_type": "code",
   "execution_count": 13,
   "metadata": {
    "id": "goyjD0vZEFaT"
   },
   "outputs": [],
   "source": [
    "text_data = pd.read_parquet(BASE_PATH + '/sample_wiki_links-use_emb.parquet')\n",
    "text_data['full_context_use_emb'] = text_data['full_context_use_emb'].apply(lambda x: x[0]['values'])\n",
    "target_map = dict([(wiki_url, index) for index, wiki_url in enumerate(text_data['wiki_url'].unique())])\n",
    "text_data['target'] = text_data['wiki_url'].apply(lambda x: target_map[x])"
   ]
  },
  {
   "cell_type": "code",
   "execution_count": 14,
   "metadata": {},
   "outputs": [
    {
     "data": {
      "text/html": [
       "<div>\n",
       "<style scoped>\n",
       "    .dataframe tbody tr th:only-of-type {\n",
       "        vertical-align: middle;\n",
       "    }\n",
       "\n",
       "    .dataframe tbody tr th {\n",
       "        vertical-align: top;\n",
       "    }\n",
       "\n",
       "    .dataframe thead th {\n",
       "        text-align: right;\n",
       "    }\n",
       "</style>\n",
       "<table border=\"1\" class=\"dataframe\">\n",
       "  <thead>\n",
       "    <tr style=\"text-align: right;\">\n",
       "      <th></th>\n",
       "      <th>wiki_url</th>\n",
       "      <th>full_context_use_emb</th>\n",
       "      <th>target</th>\n",
       "    </tr>\n",
       "  </thead>\n",
       "  <tbody>\n",
       "    <tr>\n",
       "      <th>0</th>\n",
       "      <td>http://en.wikipedia.org/wiki/anti-war</td>\n",
       "      <td>[-0.02103860303759575, 0.041761867702007294, -...</td>\n",
       "      <td>0</td>\n",
       "    </tr>\n",
       "    <tr>\n",
       "      <th>1</th>\n",
       "      <td>http://en.wikipedia.org/wiki/gamespy</td>\n",
       "      <td>[-0.05167460814118385, 0.06405597180128098, -0...</td>\n",
       "      <td>1</td>\n",
       "    </tr>\n",
       "    <tr>\n",
       "      <th>2</th>\n",
       "      <td>http://en.wikipedia.org/wiki/materialism</td>\n",
       "      <td>[0.06594348698854446, 0.03439902514219284, 0.0...</td>\n",
       "      <td>2</td>\n",
       "    </tr>\n",
       "    <tr>\n",
       "      <th>3</th>\n",
       "      <td>http://en.wikipedia.org/wiki/gamespy</td>\n",
       "      <td>[-0.02593470923602581, 0.045372482389211655, -...</td>\n",
       "      <td>1</td>\n",
       "    </tr>\n",
       "    <tr>\n",
       "      <th>4</th>\n",
       "      <td>http://en.wikipedia.org/wiki/han_solo</td>\n",
       "      <td>[0.05338936671614647, -0.024402903392910957, -...</td>\n",
       "      <td>3</td>\n",
       "    </tr>\n",
       "    <tr>\n",
       "      <th>...</th>\n",
       "      <td>...</td>\n",
       "      <td>...</td>\n",
       "      <td>...</td>\n",
       "    </tr>\n",
       "    <tr>\n",
       "      <th>20407</th>\n",
       "      <td>http://en.wikipedia.org/wiki/newton's_law_of_u...</td>\n",
       "      <td>[-0.044060226529836655, 0.05296134203672409, 0...</td>\n",
       "      <td>42</td>\n",
       "    </tr>\n",
       "    <tr>\n",
       "      <th>20408</th>\n",
       "      <td>http://en.wikipedia.org/wiki/price_elasticity_...</td>\n",
       "      <td>[-0.03951923921704292, 0.020392296835780144, 0...</td>\n",
       "      <td>15</td>\n",
       "    </tr>\n",
       "    <tr>\n",
       "      <th>20409</th>\n",
       "      <td>http://en.wikipedia.org/wiki/information_archi...</td>\n",
       "      <td>[0.011198810301721096, 0.014222495257854462, 0...</td>\n",
       "      <td>76</td>\n",
       "    </tr>\n",
       "    <tr>\n",
       "      <th>20410</th>\n",
       "      <td>http://en.wikipedia.org/wiki/botany</td>\n",
       "      <td>[0.015603267587721348, 0.06734007596969604, 0....</td>\n",
       "      <td>25</td>\n",
       "    </tr>\n",
       "    <tr>\n",
       "      <th>20411</th>\n",
       "      <td>http://en.wikipedia.org/wiki/ali_abdullah_saleh</td>\n",
       "      <td>[0.03977138176560402, -0.06701447069644928, -0...</td>\n",
       "      <td>73</td>\n",
       "    </tr>\n",
       "  </tbody>\n",
       "</table>\n",
       "<p>20412 rows × 3 columns</p>\n",
       "</div>"
      ],
      "text/plain": [
       "                                                wiki_url  \\\n",
       "0                  http://en.wikipedia.org/wiki/anti-war   \n",
       "1                   http://en.wikipedia.org/wiki/gamespy   \n",
       "2               http://en.wikipedia.org/wiki/materialism   \n",
       "3                   http://en.wikipedia.org/wiki/gamespy   \n",
       "4                  http://en.wikipedia.org/wiki/han_solo   \n",
       "...                                                  ...   \n",
       "20407  http://en.wikipedia.org/wiki/newton's_law_of_u...   \n",
       "20408  http://en.wikipedia.org/wiki/price_elasticity_...   \n",
       "20409  http://en.wikipedia.org/wiki/information_archi...   \n",
       "20410                http://en.wikipedia.org/wiki/botany   \n",
       "20411    http://en.wikipedia.org/wiki/ali_abdullah_saleh   \n",
       "\n",
       "                                    full_context_use_emb  target  \n",
       "0      [-0.02103860303759575, 0.041761867702007294, -...       0  \n",
       "1      [-0.05167460814118385, 0.06405597180128098, -0...       1  \n",
       "2      [0.06594348698854446, 0.03439902514219284, 0.0...       2  \n",
       "3      [-0.02593470923602581, 0.045372482389211655, -...       1  \n",
       "4      [0.05338936671614647, -0.024402903392910957, -...       3  \n",
       "...                                                  ...     ...  \n",
       "20407  [-0.044060226529836655, 0.05296134203672409, 0...      42  \n",
       "20408  [-0.03951923921704292, 0.020392296835780144, 0...      15  \n",
       "20409  [0.011198810301721096, 0.014222495257854462, 0...      76  \n",
       "20410  [0.015603267587721348, 0.06734007596969604, 0....      25  \n",
       "20411  [0.03977138176560402, -0.06701447069644928, -0...      73  \n",
       "\n",
       "[20412 rows x 3 columns]"
      ]
     },
     "execution_count": 14,
     "metadata": {},
     "output_type": "execute_result"
    }
   ],
   "source": [
    "text_data"
   ]
  },
  {
   "cell_type": "markdown",
   "metadata": {
    "id": "S0d7jOihz5fK"
   },
   "source": [
    "Separação em treino em teste:"
   ]
  },
  {
   "cell_type": "code",
   "execution_count": 15,
   "metadata": {
    "id": "co37sE5rz7um"
   },
   "outputs": [
    {
     "name": "stderr",
     "output_type": "stream",
     "text": [
      "<ipython-input-15-4cb0c5d35abb>:2: DeprecationWarning: `np.int` is a deprecated alias for the builtin `int`. To silence this warning, use `int` by itself. Doing this will not modify any behavior and is safe. When replacing `np.int`, you may wish to use e.g. `np.int64` or `np.int32` to specify the precision. If you wish to review your current use, check the release note link for additional information.\n",
      "Deprecated in NumPy 1.20; for more details and guidance: https://numpy.org/devdocs/release/1.20.0-notes.html#deprecations\n",
      "  entities = torch.tensor(text_data['target'].values.astype(np.int))\n"
     ]
    }
   ],
   "source": [
    "embeddings = torch.tensor(np.stack(text_data['full_context_use_emb'].values)).float()\n",
    "entities = torch.tensor(text_data['target'].values.astype(int))\n",
    "emb_train_full, emb_test, ent_train_full, ent_test = train_test_split(embeddings, entities, test_size=0.33, random_state=SEED, stratify=entities)\n",
    "emb_train, emb_val, ent_train, ent_val = train_test_split(emb_train_full, ent_train_full, test_size=0.2, random_state=SEED, stratify=ent_train_full)"
   ]
  },
  {
   "cell_type": "markdown",
   "metadata": {
    "id": "fUuTFMBhb2vZ"
   },
   "source": [
    "Conversão em tensores do PyTorch:"
   ]
  },
  {
   "cell_type": "code",
   "execution_count": 16,
   "metadata": {
    "id": "GvTgmJ2U0LpC"
   },
   "outputs": [],
   "source": [
    "train_dataset = utils_data.dataset.TensorDataset(emb_train, ent_train)\n",
    "full_train_dataset = utils_data.dataset.TensorDataset(emb_train_full, ent_train_full)\n",
    "val_dataset = utils_data.dataset.TensorDataset(emb_val, ent_val)\n",
    "test_dataset = utils_data.dataset.TensorDataset(emb_test, ent_test)"
   ]
  },
  {
   "cell_type": "markdown",
   "metadata": {
    "id": "9duTlG0X0PWH"
   },
   "source": [
    "Criação dos loaders:"
   ]
  },
  {
   "cell_type": "code",
   "execution_count": 17,
   "metadata": {
    "id": "iPNeb2Tq0PHD"
   },
   "outputs": [],
   "source": [
    "train_loader = torch.utils.data.DataLoader(train_dataset, batch_size=default_args['batch_size'], worker_init_fn=seed_worker, generator=g)\n",
    "full_train_loader = torch.utils.data.DataLoader(full_train_dataset, batch_size=default_args['batch_size'], worker_init_fn=seed_worker, generator=g)\n",
    "val_loader = torch.utils.data.DataLoader(val_dataset, batch_size=default_args['batch_size_val'], worker_init_fn=seed_worker, generator=g)\n",
    "test_loader = torch.utils.data.DataLoader(test_dataset, batch_size=default_args['batch_size_val'], worker_init_fn=seed_worker, generator=g)"
   ]
  },
  {
   "cell_type": "markdown",
   "metadata": {
    "id": "PSOxDlQ50mI3"
   },
   "source": [
    "## Otimização Bayesiana"
   ]
  },
  {
   "cell_type": "markdown",
   "metadata": {
    "id": "SZ6KEbwq010A"
   },
   "source": [
    "Preparação dos objetos para a otimização:"
   ]
  },
  {
   "cell_type": "code",
   "execution_count": 18,
   "metadata": {
    "id": "H5hmaOdX0qvR"
   },
   "outputs": [],
   "source": [
    "def model_loss(**args):\n",
    "  opt_args = get_args(input_size=512, epochs=100, **args)\n",
    "  gmvae = GMVAEBlocking(opt_args)\n",
    "  history_loss = gmvae.train(train_loader, val_loader)\n",
    "  val_loss, val_rec, val_gauss, val_cat, val_acc, val_disp = gmvae.test(val_loader, True)\n",
    "  return -val_loss"
   ]
  },
  {
   "cell_type": "code",
   "execution_count": 19,
   "metadata": {
    "id": "ZepcjN6J0xyH"
   },
   "outputs": [],
   "source": [
    "pbounds = {\n",
    "  'learning_rate': (1e-3, 1e-2),\n",
    "  'lr_decay': (1, 20),\n",
    "  'decay_temp': (0.5, 2),\n",
    "  'decay_temp_rate': (0.0013862944, 0.02)\n",
    "}\n",
    "\n",
    "optimizer = BayesianOptimization(\n",
    "    f=model_loss,\n",
    "    pbounds=pbounds,\n",
    "    random_state=1,\n",
    ")"
   ]
  },
  {
   "cell_type": "markdown",
   "metadata": {
    "id": "fmrkmhttwkiD"
   },
   "source": [
    "## Treinameto do modelo"
   ]
  },
  {
   "cell_type": "markdown",
   "metadata": {
    "id": "i4bgNixs4wt7"
   },
   "source": [
    "### Detalhes do Modelo\n",
    "\n",
    "Rede de inferência:\n",
    "```py\n",
    "# q(y|x)\n",
    "self.inference_qyx = torch.nn.ModuleList([\n",
    "    nn.Linear(x_dim, 512),\n",
    "    nn.ReLU(),\n",
    "    nn.Linear(512, 512),\n",
    "    nn.ReLU(),\n",
    "    GumbelSoftmax(512, y_dim)\n",
    "])\n",
    "\n",
    "# q(z|y,x)\n",
    "self.inference_qzyx = torch.nn.ModuleList([\n",
    "    nn.Linear(x_dim + y_dim, 512),\n",
    "    nn.ReLU(),\n",
    "    nn.Linear(512, 512),\n",
    "    nn.ReLU(),\n",
    "    Gaussian(512, z_dim)\n",
    "])\n",
    "```\n",
    "\n",
    "Rede generativa:\n",
    "\n",
    "```py\n",
    "# p(z|y)\n",
    "self.y_mu = nn.Linear(y_dim, z_dim)\n",
    "self.y_var = nn.Linear(y_dim, z_dim)\n",
    "\n",
    "# p(x|z)\n",
    "self.generative_pxz = torch.nn.ModuleList([\n",
    "    nn.Linear(z_dim, 512),\n",
    "    nn.ReLU(),\n",
    "    nn.Linear(512, 512),\n",
    "    nn.ReLU(),\n",
    "    nn.Linear(512, x_dim),\n",
    "    torch.nn.Sigmoid()\n",
    "])\n",
    "```\n",
    "\n",
    "#### Distribuição Gumbel-Softmax\n",
    "\n",
    "O truque de reparametrização que geralmente é usado para VAEs não pode ser aplicado diretamente a variáveis discretas. Existem algumas alternativas a isso, mas aqui será utilizada a reparametrização de variáveis categóricas por meio da distribuição Gumbel-Softmax. Essa estratégia traz um estimador de gradiente eficiente que substitui a amostra não diferenciável de uma distribuição categórica por uma amostra diferenciável da distribuição Gumbel-Softmax. O autor da implementação usada aqui afirma que, em comparação com outras estratégias, resulta em melhor complexidade de tempo devido ao número reduzido de estimativas de gradiente.\n",
    "\n",
    "#### Softmax temperature $\\tau$\n",
    "\n",
    "<center>\n",
    "  <img width=\"840\" src=\"https://drive.google.com/uc?id=10tqDirE6yjSpO58839nFv8YQ397-QOH4\" />\n",
    "</center>"
   ]
  },
  {
   "cell_type": "markdown",
   "metadata": {
    "id": "WZdoEmrcFQq1"
   },
   "source": [
    "### Execução"
   ]
  },
  {
   "cell_type": "code",
   "execution_count": 20,
   "metadata": {
    "id": "AepbLb6B0Yvw"
   },
   "outputs": [],
   "source": [
    "RETRAIN = False"
   ]
  },
  {
   "cell_type": "markdown",
   "metadata": {
    "id": "wo8i2M3t499z"
   },
   "source": [
    "Utilizando 10 classes:"
   ]
  },
  {
   "cell_type": "code",
   "execution_count": 21,
   "metadata": {
    "id": "nuMqzTik49Li"
   },
   "outputs": [],
   "source": [
    "num_classes = 10"
   ]
  },
  {
   "cell_type": "code",
   "execution_count": 24,
   "metadata": {
    "id": "Dyw9GY6Z0iSJ"
   },
   "outputs": [],
   "source": [
    "if RETRAIN:\n",
    "  optimizer.maximize(\n",
    "    init_points=4,\n",
    "    n_iter=23\n",
    "  )\n",
    "  print(f\"Melhores parâmetros: {optimizer.max['params']}\")\n",
    "  args = get_args(num_classes=num_classes,\n",
    "                  input_size=512,\n",
    "                  epochs=600,\n",
    "                  **optimizer.max['params'])\n",
    "  gmvae = GMVAEBlocking(args)\n",
    "  history_loss = gmvae.train(full_train_loader, val_loader)\n",
    "  gmvae.save(BASE_PATH + \"/best_model\")\n",
    "else:\n",
    "  args = get_args(num_classes=num_classes,\n",
    "                  input_size=512,\n",
    "                  epochs=50,\n",
    "                  w_rec=100,\n",
    "                  lr_decay=4,\n",
    "                  learning_rate=0.001135,\n",
    "                  decay_temp_rate=0.00443,\n",
    "                  decay_temp=1.727)\n",
    "  gmvae = GMVAEBlocking(args)\n",
    "  gmvae.load(BASE_PATH + '/best_model')"
   ]
  },
  {
   "cell_type": "markdown",
   "metadata": {
    "id": "EdncCMC21bm-"
   },
   "source": [
    "## Avaliação"
   ]
  },
  {
   "cell_type": "code",
   "execution_count": 25,
   "metadata": {
    "id": "7zhSAFqfRcM5"
   },
   "outputs": [],
   "source": [
    "train_latent_features, train_entities = gmvae.latent_features(train_loader, True)\n",
    "train_reachy, train_dispersal, train_blocking = gmvae.test(train_loader)\n",
    "\n",
    "test_latent_features, test_entities = gmvae.latent_features(test_loader, True)\n",
    "test_reachy, test_dispersal, test_blocking = gmvae.test(test_loader)"
   ]
  },
  {
   "cell_type": "code",
   "execution_count": 26,
   "metadata": {
    "id": "-X57E-9k3k1m"
   },
   "outputs": [],
   "source": [
    "train_blocks_by_entities = blocks_by_entities(num_classes, torch.Tensor(train_entities).int(), torch.Tensor(train_blocking).int())\n",
    "test_blocks_by_entities = blocks_by_entities(num_classes, torch.Tensor(test_entities).int(), torch.Tensor(test_blocking).int())\n",
    "test_accuracy = blocking_accuracy(train_blocks_by_entities, test_blocks_by_entities)"
   ]
  },
  {
   "cell_type": "code",
   "execution_count": 27,
   "metadata": {
    "colab": {
     "base_uri": "https://localhost:8080/"
    },
    "executionInfo": {
     "elapsed": 7,
     "status": "ok",
     "timestamp": 1644548979441,
     "user": {
      "displayName": "Samir Braga Chaves",
      "photoUrl": "https://lh3.googleusercontent.com/a-/AOh14GjVygv2wdXo0c9CF7F3Cexb6uLNuruAVewQW9Sohw=s64",
      "userId": "16825804541748131911"
     },
     "user_tz": 180
    },
    "id": "Fw7Xlhop3APG",
    "outputId": "158b4d34-7191-459c-cd8e-7212904a4b6d"
   },
   "outputs": [
    {
     "name": "stdout",
     "output_type": "stream",
     "text": [
      "Train = (reachy: 73.8761215209961, dispersal: 90.47579193115234)\n",
      "Test = (reachy: 73.34842681884766, dispersal: 90.00152587890625, accuracy: 0.94)\n"
     ]
    }
   ],
   "source": [
    "print(f'Train = (reachy: {train_reachy}, dispersal: {train_dispersal})')\n",
    "print(f'Test = (reachy: {test_reachy}, dispersal: {test_dispersal}, accuracy: {test_accuracy})')"
   ]
  },
  {
   "cell_type": "markdown",
   "metadata": {
    "id": "rDHZwYnyVp8O"
   },
   "source": [
    "## Visualização dos Espaços Latentes"
   ]
  },
  {
   "cell_type": "code",
   "execution_count": 28,
   "metadata": {
    "id": "wyTtDdwyha-L"
   },
   "outputs": [],
   "source": [
    "def plot_latent_features(latent_features):\n",
    "    fig = plt.figure(figsize=(10, 6))\n",
    "    plt.scatter(latent_features[:, 0], latent_features[:, 1], marker='o',\n",
    "                edgecolor='none', cmap=plt.cm.get_cmap('jet', 100), s = 6)\n",
    "    plt.grid(False)\n",
    "    plt.axis('off')"
   ]
  },
  {
   "cell_type": "code",
   "execution_count": 29,
   "metadata": {
    "colab": {
     "base_uri": "https://localhost:8080/",
     "height": 357
    },
    "executionInfo": {
     "elapsed": 646,
     "status": "ok",
     "timestamp": 1644548986056,
     "user": {
      "displayName": "Samir Braga Chaves",
      "photoUrl": "https://lh3.googleusercontent.com/a-/AOh14GjVygv2wdXo0c9CF7F3Cexb6uLNuruAVewQW9Sohw=s64",
      "userId": "16825804541748131911"
     },
     "user_tz": 180
    },
    "id": "DMmduBVeY_t9",
    "outputId": "b457db9a-0da9-49e4-d2e0-bb2ba34a8aae"
   },
   "outputs": [
    {
     "data": {
      "image/png": "[encoded data removed]",
      "text/plain": [
       "<Figure size 720x432 with 1 Axes>"
      ]
     },
     "metadata": {
      "needs_background": "light"
     },
     "output_type": "display_data"
    }
   ],
   "source": [
    "plot_latent_features(train_latent_features)"
   ]
  },
  {
   "cell_type": "code",
   "execution_count": 30,
   "metadata": {
    "colab": {
     "base_uri": "https://localhost:8080/",
     "height": 357
    },
    "executionInfo": {
     "elapsed": 448,
     "status": "ok",
     "timestamp": 1644548987648,
     "user": {
      "displayName": "Samir Braga Chaves",
      "photoUrl": "https://lh3.googleusercontent.com/a-/AOh14GjVygv2wdXo0c9CF7F3Cexb6uLNuruAVewQW9Sohw=s64",
      "userId": "16825804541748131911"
     },
     "user_tz": 180
    },
    "id": "HTuJ28lE2zCn",
    "outputId": "a19a3ca0-0024-441c-9e17-b0094e2d04e6"
   },
   "outputs": [
    {
     "data": {
      "image/png": "[encoded data removed]",
      "text/plain": [
       "<Figure size 720x432 with 1 Axes>"
      ]
     },
     "metadata": {
      "needs_background": "light"
     },
     "output_type": "display_data"
    }
   ],
   "source": [
    "plot_latent_features(test_latent_features)"
   ]
  },
  {
   "cell_type": "markdown",
   "metadata": {
    "id": "J20jejEz9bEs"
   },
   "source": [
    "## Conclusões:\n",
    "\n",
    "\n",
    "Considerando que os dados textuais não são, na grande maioria das vezes, bem representativos em relação às entidades que estão relacionados; que, além disso, o modelo de *sentence embedding* utilizado é bem simples quando comparados com o estado da arte atualmente e que, por fim, a dimensão do espaço latente é bem reduzida (apenas bidimensional), acredita-se que os resultados são bem promissores. \n",
    "\n",
    "Outros pontos que merecem atenção são:\n",
    "- A técnica empregada aqui é não-supersionada, o que dispensa a necessidade de rótulos na etapa de *blocking*;\n",
    "- O modelo é paramétrico, o que traz uma série de benefícios nesse contexto, como a velocidade na predição de novos dados, permitindo uma resolução de entidades dinâmica;\n",
    "- O modelo é bastante flexível por possuir duas redes responsáveis pela inferência da variável latente e pela geração de novos dados. Logo, a capacidade de lidar com dados complexos pode ser refletida na complexidade dessas redes;\n",
    "- Mais especificamente sobre os dados textuais, ao invés de utilizar os *sentence embeddings* como entradas do modelo, esse processo já pode estar presente na rede de inferência, utilizando, por exemplo, redes baseadas em *transformers*."
   ]
  }
 ],
 "metadata": {
  "accelerator": "GPU",
  "colab": {
   "collapsed_sections": [],
   "name": "GMVAE for Blocking.ipynb",
   "provenance": []
  },
  "kernelspec": {
   "display_name": "Python 3",
   "language": "python",
   "name": "python3"
  },
  "language_info": {
   "codemirror_mode": {
    "name": "ipython",
    "version": 3
   },
   "file_extension": ".py",
   "mimetype": "text/x-python",
   "name": "python",
   "nbconvert_exporter": "python",
   "pygments_lexer": "ipython3",
   "version": "3.8.12"
  }
 },
 "nbformat": 4,
 "nbformat_minor": 4
}
